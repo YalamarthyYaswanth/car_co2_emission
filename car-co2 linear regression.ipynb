{
 "cells": [
  {
   "cell_type": "code",
   "execution_count": 1,
   "metadata": {},
   "outputs": [],
   "source": [
    "import pandas as pd\n",
    "import numpy as np\n",
    "from sklearn.model_selection import train_test_split\n",
    "from sklearn.preprocessing import StandardScaler\n",
    "from sklearn.neighbors import KNeighborsClassifier\n",
    "from sklearn.metrics import confusion_matrix\n",
    "from sklearn.metrics import f1_score\n",
    "from sklearn.metrics import accuracy_score\n",
    "import seaborn as sns\n",
    "import matplotlib.pyplot as plt"
   ]
  },
  {
   "cell_type": "code",
   "execution_count": 2,
   "metadata": {},
   "outputs": [
    {
     "data": {
      "text/html": [
       "<div>\n",
       "<style scoped>\n",
       "    .dataframe tbody tr th:only-of-type {\n",
       "        vertical-align: middle;\n",
       "    }\n",
       "\n",
       "    .dataframe tbody tr th {\n",
       "        vertical-align: top;\n",
       "    }\n",
       "\n",
       "    .dataframe thead th {\n",
       "        text-align: right;\n",
       "    }\n",
       "</style>\n",
       "<table border=\"1\" class=\"dataframe\">\n",
       "  <thead>\n",
       "    <tr style=\"text-align: right;\">\n",
       "      <th></th>\n",
       "      <th>Make</th>\n",
       "      <th>Model</th>\n",
       "      <th>Vehicle_Class</th>\n",
       "      <th>Engine_Size_L_</th>\n",
       "      <th>Cylinders</th>\n",
       "      <th>Transmission</th>\n",
       "      <th>Fuel_Type</th>\n",
       "      <th>Fuel Consumption City (L/100 km)</th>\n",
       "      <th>Fuel Consumption Hwy (L/100 km)</th>\n",
       "      <th>Fuel Consumption Comb (L/100 km)</th>\n",
       "      <th>Fuel Consumption Comb (mpg)</th>\n",
       "      <th>CO2_Emissions_g_km_</th>\n",
       "    </tr>\n",
       "  </thead>\n",
       "  <tbody>\n",
       "    <tr>\n",
       "      <th>0</th>\n",
       "      <td>ACURA</td>\n",
       "      <td>ILX</td>\n",
       "      <td>COMPACT</td>\n",
       "      <td>2.0</td>\n",
       "      <td>4</td>\n",
       "      <td>AS5</td>\n",
       "      <td>Z</td>\n",
       "      <td>9.9</td>\n",
       "      <td>6.7</td>\n",
       "      <td>8.5</td>\n",
       "      <td>33</td>\n",
       "      <td>196</td>\n",
       "    </tr>\n",
       "    <tr>\n",
       "      <th>1</th>\n",
       "      <td>ACURA</td>\n",
       "      <td>ILX</td>\n",
       "      <td>COMPACT</td>\n",
       "      <td>2.4</td>\n",
       "      <td>4</td>\n",
       "      <td>M6</td>\n",
       "      <td>Z</td>\n",
       "      <td>11.2</td>\n",
       "      <td>7.7</td>\n",
       "      <td>9.6</td>\n",
       "      <td>29</td>\n",
       "      <td>221</td>\n",
       "    </tr>\n",
       "    <tr>\n",
       "      <th>2</th>\n",
       "      <td>ACURA</td>\n",
       "      <td>ILX HYBRID</td>\n",
       "      <td>COMPACT</td>\n",
       "      <td>1.5</td>\n",
       "      <td>4</td>\n",
       "      <td>AV7</td>\n",
       "      <td>Z</td>\n",
       "      <td>6.0</td>\n",
       "      <td>5.8</td>\n",
       "      <td>5.9</td>\n",
       "      <td>48</td>\n",
       "      <td>136</td>\n",
       "    </tr>\n",
       "    <tr>\n",
       "      <th>3</th>\n",
       "      <td>ACURA</td>\n",
       "      <td>MDX 4WD</td>\n",
       "      <td>SUV - SMALL</td>\n",
       "      <td>3.5</td>\n",
       "      <td>6</td>\n",
       "      <td>AS6</td>\n",
       "      <td>Z</td>\n",
       "      <td>12.7</td>\n",
       "      <td>9.1</td>\n",
       "      <td>11.1</td>\n",
       "      <td>25</td>\n",
       "      <td>255</td>\n",
       "    </tr>\n",
       "    <tr>\n",
       "      <th>4</th>\n",
       "      <td>ACURA</td>\n",
       "      <td>RDX AWD</td>\n",
       "      <td>SUV - SMALL</td>\n",
       "      <td>3.5</td>\n",
       "      <td>6</td>\n",
       "      <td>AS6</td>\n",
       "      <td>Z</td>\n",
       "      <td>12.1</td>\n",
       "      <td>8.7</td>\n",
       "      <td>10.6</td>\n",
       "      <td>27</td>\n",
       "      <td>244</td>\n",
       "    </tr>\n",
       "    <tr>\n",
       "      <th>...</th>\n",
       "      <td>...</td>\n",
       "      <td>...</td>\n",
       "      <td>...</td>\n",
       "      <td>...</td>\n",
       "      <td>...</td>\n",
       "      <td>...</td>\n",
       "      <td>...</td>\n",
       "      <td>...</td>\n",
       "      <td>...</td>\n",
       "      <td>...</td>\n",
       "      <td>...</td>\n",
       "      <td>...</td>\n",
       "    </tr>\n",
       "    <tr>\n",
       "      <th>7380</th>\n",
       "      <td>VOLVO</td>\n",
       "      <td>XC40 T5 AWD</td>\n",
       "      <td>SUV - SMALL</td>\n",
       "      <td>2.0</td>\n",
       "      <td>4</td>\n",
       "      <td>AS8</td>\n",
       "      <td>Z</td>\n",
       "      <td>10.7</td>\n",
       "      <td>7.7</td>\n",
       "      <td>9.4</td>\n",
       "      <td>30</td>\n",
       "      <td>219</td>\n",
       "    </tr>\n",
       "    <tr>\n",
       "      <th>7381</th>\n",
       "      <td>VOLVO</td>\n",
       "      <td>XC60 T5 AWD</td>\n",
       "      <td>SUV - SMALL</td>\n",
       "      <td>2.0</td>\n",
       "      <td>4</td>\n",
       "      <td>AS8</td>\n",
       "      <td>Z</td>\n",
       "      <td>11.2</td>\n",
       "      <td>8.3</td>\n",
       "      <td>9.9</td>\n",
       "      <td>29</td>\n",
       "      <td>232</td>\n",
       "    </tr>\n",
       "    <tr>\n",
       "      <th>7382</th>\n",
       "      <td>VOLVO</td>\n",
       "      <td>XC60 T6 AWD</td>\n",
       "      <td>SUV - SMALL</td>\n",
       "      <td>2.0</td>\n",
       "      <td>4</td>\n",
       "      <td>AS8</td>\n",
       "      <td>Z</td>\n",
       "      <td>11.7</td>\n",
       "      <td>8.6</td>\n",
       "      <td>10.3</td>\n",
       "      <td>27</td>\n",
       "      <td>240</td>\n",
       "    </tr>\n",
       "    <tr>\n",
       "      <th>7383</th>\n",
       "      <td>VOLVO</td>\n",
       "      <td>XC90 T5 AWD</td>\n",
       "      <td>SUV - STANDARD</td>\n",
       "      <td>2.0</td>\n",
       "      <td>4</td>\n",
       "      <td>AS8</td>\n",
       "      <td>Z</td>\n",
       "      <td>11.2</td>\n",
       "      <td>8.3</td>\n",
       "      <td>9.9</td>\n",
       "      <td>29</td>\n",
       "      <td>232</td>\n",
       "    </tr>\n",
       "    <tr>\n",
       "      <th>7384</th>\n",
       "      <td>VOLVO</td>\n",
       "      <td>XC90 T6 AWD</td>\n",
       "      <td>SUV - STANDARD</td>\n",
       "      <td>2.0</td>\n",
       "      <td>4</td>\n",
       "      <td>AS8</td>\n",
       "      <td>Z</td>\n",
       "      <td>12.2</td>\n",
       "      <td>8.7</td>\n",
       "      <td>10.7</td>\n",
       "      <td>26</td>\n",
       "      <td>248</td>\n",
       "    </tr>\n",
       "  </tbody>\n",
       "</table>\n",
       "<p>7385 rows × 12 columns</p>\n",
       "</div>"
      ],
      "text/plain": [
       "       Make        Model   Vehicle_Class  Engine_Size_L_  Cylinders  \\\n",
       "0     ACURA          ILX         COMPACT             2.0          4   \n",
       "1     ACURA          ILX         COMPACT             2.4          4   \n",
       "2     ACURA   ILX HYBRID         COMPACT             1.5          4   \n",
       "3     ACURA      MDX 4WD     SUV - SMALL             3.5          6   \n",
       "4     ACURA      RDX AWD     SUV - SMALL             3.5          6   \n",
       "...     ...          ...             ...             ...        ...   \n",
       "7380  VOLVO  XC40 T5 AWD     SUV - SMALL             2.0          4   \n",
       "7381  VOLVO  XC60 T5 AWD     SUV - SMALL             2.0          4   \n",
       "7382  VOLVO  XC60 T6 AWD     SUV - SMALL             2.0          4   \n",
       "7383  VOLVO  XC90 T5 AWD  SUV - STANDARD             2.0          4   \n",
       "7384  VOLVO  XC90 T6 AWD  SUV - STANDARD             2.0          4   \n",
       "\n",
       "     Transmission Fuel_Type  Fuel Consumption City (L/100 km)  \\\n",
       "0             AS5         Z                               9.9   \n",
       "1              M6         Z                              11.2   \n",
       "2             AV7         Z                               6.0   \n",
       "3             AS6         Z                              12.7   \n",
       "4             AS6         Z                              12.1   \n",
       "...           ...       ...                               ...   \n",
       "7380          AS8         Z                              10.7   \n",
       "7381          AS8         Z                              11.2   \n",
       "7382          AS8         Z                              11.7   \n",
       "7383          AS8         Z                              11.2   \n",
       "7384          AS8         Z                              12.2   \n",
       "\n",
       "      Fuel Consumption Hwy (L/100 km)  Fuel Consumption Comb (L/100 km)  \\\n",
       "0                                 6.7                               8.5   \n",
       "1                                 7.7                               9.6   \n",
       "2                                 5.8                               5.9   \n",
       "3                                 9.1                              11.1   \n",
       "4                                 8.7                              10.6   \n",
       "...                               ...                               ...   \n",
       "7380                              7.7                               9.4   \n",
       "7381                              8.3                               9.9   \n",
       "7382                              8.6                              10.3   \n",
       "7383                              8.3                               9.9   \n",
       "7384                              8.7                              10.7   \n",
       "\n",
       "      Fuel Consumption Comb (mpg)  CO2_Emissions_g_km_  \n",
       "0                              33                  196  \n",
       "1                              29                  221  \n",
       "2                              48                  136  \n",
       "3                              25                  255  \n",
       "4                              27                  244  \n",
       "...                           ...                  ...  \n",
       "7380                           30                  219  \n",
       "7381                           29                  232  \n",
       "7382                           27                  240  \n",
       "7383                           29                  232  \n",
       "7384                           26                  248  \n",
       "\n",
       "[7385 rows x 12 columns]"
      ]
     },
     "execution_count": 2,
     "metadata": {},
     "output_type": "execute_result"
    }
   ],
   "source": [
    "co2data=pd.read_csv(\"CO2 Emissions_Canada.csv\")\n",
    "co2data"
   ]
  },
  {
   "cell_type": "code",
   "execution_count": 3,
   "metadata": {},
   "outputs": [
    {
     "data": {
      "text/plain": [
       "Make                                 object\n",
       "Model                                object\n",
       "Vehicle_Class                        object\n",
       "Engine_Size_L_                      float64\n",
       "Cylinders                             int64\n",
       "Transmission                         object\n",
       "Fuel_Type                            object\n",
       "Fuel Consumption City (L/100 km)    float64\n",
       "Fuel Consumption Hwy (L/100 km)     float64\n",
       "Fuel Consumption Comb (L/100 km)    float64\n",
       "Fuel Consumption Comb (mpg)           int64\n",
       "CO2_Emissions_g_km_                   int64\n",
       "dtype: object"
      ]
     },
     "execution_count": 3,
     "metadata": {},
     "output_type": "execute_result"
    }
   ],
   "source": [
    "co2data.dtypes"
   ]
  },
  {
   "cell_type": "code",
   "execution_count": 4,
   "metadata": {},
   "outputs": [
    {
     "data": {
      "text/plain": [
       "Index(['Make', 'Model', 'Vehicle_Class', 'Engine_Size_L_', 'Cylinders',\n",
       "       'Transmission', 'Fuel_Type', 'Fuel Consumption City (L/100 km)',\n",
       "       'Fuel Consumption Hwy (L/100 km)', 'Fuel Consumption Comb (L/100 km)',\n",
       "       'Fuel Consumption Comb (mpg)', 'CO2_Emissions_g_km_'],\n",
       "      dtype='object')"
      ]
     },
     "execution_count": 4,
     "metadata": {},
     "output_type": "execute_result"
    }
   ],
   "source": [
    "co2data.columns"
   ]
  },
  {
   "cell_type": "code",
   "execution_count": 5,
   "metadata": {},
   "outputs": [
    {
     "data": {
      "text/plain": [
       "(7385, 12)"
      ]
     },
     "execution_count": 5,
     "metadata": {},
     "output_type": "execute_result"
    }
   ],
   "source": [
    "co2data.shape"
   ]
  },
  {
   "cell_type": "code",
   "execution_count": 6,
   "metadata": {},
   "outputs": [
    {
     "data": {
      "text/plain": [
       "Make                                0\n",
       "Model                               0\n",
       "Vehicle_Class                       0\n",
       "Engine_Size_L_                      0\n",
       "Cylinders                           0\n",
       "Transmission                        0\n",
       "Fuel_Type                           0\n",
       "Fuel Consumption City (L/100 km)    0\n",
       "Fuel Consumption Hwy (L/100 km)     0\n",
       "Fuel Consumption Comb (L/100 km)    0\n",
       "Fuel Consumption Comb (mpg)         0\n",
       "CO2_Emissions_g_km_                 0\n",
       "dtype: int64"
      ]
     },
     "execution_count": 6,
     "metadata": {},
     "output_type": "execute_result"
    }
   ],
   "source": [
    "co2data.isnull().sum()"
   ]
  },
  {
   "cell_type": "code",
   "execution_count": 7,
   "metadata": {},
   "outputs": [],
   "source": [
    "from sklearn.preprocessing import LabelEncoder\n",
    "from sklearn.preprocessing import OneHotEncoder\n"
   ]
  },
  {
   "cell_type": "code",
   "execution_count": 8,
   "metadata": {},
   "outputs": [
    {
     "data": {
      "text/plain": [
       "array(['ACURA', 'ALFA ROMEO', 'ASTON MARTIN', 'AUDI', 'BENTLEY', 'BMW',\n",
       "       'BUGATTI', 'BUICK', 'CADILLAC', 'CHEVROLET', 'CHRYSLER', 'DODGE',\n",
       "       'FIAT', 'FORD', 'GENESIS', 'GMC', 'HONDA', 'HYUNDAI', 'INFINITI',\n",
       "       'JAGUAR', 'JEEP', 'KIA', 'LAMBORGHINI', 'LAND ROVER', 'LEXUS',\n",
       "       'LINCOLN', 'MASERATI', 'MAZDA', 'MERCEDES-BENZ', 'MINI',\n",
       "       'MITSUBISHI', 'NISSAN', 'PORSCHE', 'RAM', 'ROLLS-ROYCE', 'SCION',\n",
       "       'SMART', 'SRT', 'SUBARU', 'TOYOTA', 'VOLKSWAGEN', 'VOLVO'],\n",
       "      dtype=object)"
      ]
     },
     "execution_count": 8,
     "metadata": {},
     "output_type": "execute_result"
    }
   ],
   "source": [
    "le=LabelEncoder()\n",
    "co2data['Make'] = le.fit_transform(co2data.Make)\n",
    "co2data['Make'] = co2data['Make'].astype(\"int64\")\n",
    "le.classes_"
   ]
  },
  {
   "cell_type": "code",
   "execution_count": 9,
   "metadata": {},
   "outputs": [
    {
     "data": {
      "text/plain": [
       "array(['124 SPIDER', '124 Spider', '1500', ..., 'tC', 'xB', 'xD'],\n",
       "      dtype=object)"
      ]
     },
     "execution_count": 9,
     "metadata": {},
     "output_type": "execute_result"
    }
   ],
   "source": [
    "co2data['Model'] = le.fit_transform(co2data.Model)\n",
    "co2data['Model'] = co2data['Model'].astype(\"int64\")\n",
    "le.classes_"
   ]
  },
  {
   "cell_type": "code",
   "execution_count": 10,
   "metadata": {},
   "outputs": [
    {
     "data": {
      "text/plain": [
       "array(['COMPACT', 'FULL-SIZE', 'MID-SIZE', 'MINICOMPACT', 'MINIVAN',\n",
       "       'PICKUP TRUCK - SMALL', 'PICKUP TRUCK - STANDARD',\n",
       "       'SPECIAL PURPOSE VEHICLE', 'STATION WAGON - MID-SIZE',\n",
       "       'STATION WAGON - SMALL', 'SUBCOMPACT', 'SUV - SMALL',\n",
       "       'SUV - STANDARD', 'TWO-SEATER', 'VAN - CARGO', 'VAN - PASSENGER'],\n",
       "      dtype=object)"
      ]
     },
     "execution_count": 10,
     "metadata": {},
     "output_type": "execute_result"
    }
   ],
   "source": [
    "co2data['Vehicle_Class'] = le.fit_transform(co2data.Vehicle_Class)\n",
    "co2data['Vehicle_Class'] = co2data['Vehicle_Class'].astype(\"int64\")\n",
    "le.classes_"
   ]
  },
  {
   "cell_type": "code",
   "execution_count": 11,
   "metadata": {},
   "outputs": [
    {
     "data": {
      "text/plain": [
       "array(['A10', 'A4', 'A5', 'A6', 'A7', 'A8', 'A9', 'AM5', 'AM6', 'AM7',\n",
       "       'AM8', 'AM9', 'AS10', 'AS4', 'AS5', 'AS6', 'AS7', 'AS8', 'AS9',\n",
       "       'AV', 'AV10', 'AV6', 'AV7', 'AV8', 'M5', 'M6', 'M7'], dtype=object)"
      ]
     },
     "execution_count": 11,
     "metadata": {},
     "output_type": "execute_result"
    }
   ],
   "source": [
    "co2data['Transmission'] = le.fit_transform(co2data.Transmission)\n",
    "co2data['Transmission'] = co2data['Transmission'].astype(\"int64\")\n",
    "le.classes_"
   ]
  },
  {
   "cell_type": "code",
   "execution_count": 12,
   "metadata": {},
   "outputs": [
    {
     "data": {
      "text/plain": [
       "array(['D', 'E', 'N', 'X', 'Z'], dtype=object)"
      ]
     },
     "execution_count": 12,
     "metadata": {},
     "output_type": "execute_result"
    }
   ],
   "source": [
    "co2data['Fuel_Type'] = le.fit_transform(co2data.Fuel_Type)\n",
    "co2data['Fuel_Type'] = co2data['Fuel_Type'].astype(\"int64\")\n",
    "le.classes_"
   ]
  },
  {
   "cell_type": "code",
   "execution_count": 13,
   "metadata": {},
   "outputs": [],
   "source": [
    "#co2data['Make', 'Model', 'Vehicle_Class','Transmission', 'Fuel_Type'] = le.fit_transform(co2data['Make', 'Model', 'Vehicle_Class','Transmission', 'Fuel_Type'])\n",
    "#co2data['Make', 'Model', 'Vehicle_Class','Transmission', 'Fuel_Type'] = co2data['Make', 'Model', 'Vehicle_Class','Transmission', 'Fuel_Type']"
   ]
  },
  {
   "cell_type": "code",
   "execution_count": null,
   "metadata": {},
   "outputs": [],
   "source": []
  },
  {
   "cell_type": "code",
   "execution_count": 14,
   "metadata": {},
   "outputs": [
    {
     "data": {
      "text/html": [
       "<div>\n",
       "<style scoped>\n",
       "    .dataframe tbody tr th:only-of-type {\n",
       "        vertical-align: middle;\n",
       "    }\n",
       "\n",
       "    .dataframe tbody tr th {\n",
       "        vertical-align: top;\n",
       "    }\n",
       "\n",
       "    .dataframe thead th {\n",
       "        text-align: right;\n",
       "    }\n",
       "</style>\n",
       "<table border=\"1\" class=\"dataframe\">\n",
       "  <thead>\n",
       "    <tr style=\"text-align: right;\">\n",
       "      <th></th>\n",
       "      <th>Make</th>\n",
       "      <th>Model</th>\n",
       "      <th>Vehicle_Class</th>\n",
       "      <th>Engine_Size_L_</th>\n",
       "      <th>Cylinders</th>\n",
       "      <th>Transmission</th>\n",
       "      <th>Fuel_Type</th>\n",
       "      <th>Fuel Consumption City (L/100 km)</th>\n",
       "      <th>Fuel Consumption Hwy (L/100 km)</th>\n",
       "      <th>Fuel Consumption Comb (L/100 km)</th>\n",
       "      <th>Fuel Consumption Comb (mpg)</th>\n",
       "      <th>CO2_Emissions_g_km_</th>\n",
       "    </tr>\n",
       "  </thead>\n",
       "  <tbody>\n",
       "    <tr>\n",
       "      <th>0</th>\n",
       "      <td>0</td>\n",
       "      <td>1057</td>\n",
       "      <td>0</td>\n",
       "      <td>2.0</td>\n",
       "      <td>4</td>\n",
       "      <td>14</td>\n",
       "      <td>4</td>\n",
       "      <td>9.9</td>\n",
       "      <td>6.7</td>\n",
       "      <td>8.5</td>\n",
       "      <td>33</td>\n",
       "      <td>196</td>\n",
       "    </tr>\n",
       "    <tr>\n",
       "      <th>1</th>\n",
       "      <td>0</td>\n",
       "      <td>1057</td>\n",
       "      <td>0</td>\n",
       "      <td>2.4</td>\n",
       "      <td>4</td>\n",
       "      <td>25</td>\n",
       "      <td>4</td>\n",
       "      <td>11.2</td>\n",
       "      <td>7.7</td>\n",
       "      <td>9.6</td>\n",
       "      <td>29</td>\n",
       "      <td>221</td>\n",
       "    </tr>\n",
       "    <tr>\n",
       "      <th>2</th>\n",
       "      <td>0</td>\n",
       "      <td>1058</td>\n",
       "      <td>0</td>\n",
       "      <td>1.5</td>\n",
       "      <td>4</td>\n",
       "      <td>22</td>\n",
       "      <td>4</td>\n",
       "      <td>6.0</td>\n",
       "      <td>5.8</td>\n",
       "      <td>5.9</td>\n",
       "      <td>48</td>\n",
       "      <td>136</td>\n",
       "    </tr>\n",
       "    <tr>\n",
       "      <th>3</th>\n",
       "      <td>0</td>\n",
       "      <td>1233</td>\n",
       "      <td>11</td>\n",
       "      <td>3.5</td>\n",
       "      <td>6</td>\n",
       "      <td>15</td>\n",
       "      <td>4</td>\n",
       "      <td>12.7</td>\n",
       "      <td>9.1</td>\n",
       "      <td>11.1</td>\n",
       "      <td>25</td>\n",
       "      <td>255</td>\n",
       "    </tr>\n",
       "    <tr>\n",
       "      <th>4</th>\n",
       "      <td>0</td>\n",
       "      <td>1499</td>\n",
       "      <td>11</td>\n",
       "      <td>3.5</td>\n",
       "      <td>6</td>\n",
       "      <td>15</td>\n",
       "      <td>4</td>\n",
       "      <td>12.1</td>\n",
       "      <td>8.7</td>\n",
       "      <td>10.6</td>\n",
       "      <td>27</td>\n",
       "      <td>244</td>\n",
       "    </tr>\n",
       "    <tr>\n",
       "      <th>...</th>\n",
       "      <td>...</td>\n",
       "      <td>...</td>\n",
       "      <td>...</td>\n",
       "      <td>...</td>\n",
       "      <td>...</td>\n",
       "      <td>...</td>\n",
       "      <td>...</td>\n",
       "      <td>...</td>\n",
       "      <td>...</td>\n",
       "      <td>...</td>\n",
       "      <td>...</td>\n",
       "      <td>...</td>\n",
       "    </tr>\n",
       "    <tr>\n",
       "      <th>7380</th>\n",
       "      <td>41</td>\n",
       "      <td>1951</td>\n",
       "      <td>11</td>\n",
       "      <td>2.0</td>\n",
       "      <td>4</td>\n",
       "      <td>17</td>\n",
       "      <td>4</td>\n",
       "      <td>10.7</td>\n",
       "      <td>7.7</td>\n",
       "      <td>9.4</td>\n",
       "      <td>30</td>\n",
       "      <td>219</td>\n",
       "    </tr>\n",
       "    <tr>\n",
       "      <th>7381</th>\n",
       "      <td>41</td>\n",
       "      <td>1957</td>\n",
       "      <td>11</td>\n",
       "      <td>2.0</td>\n",
       "      <td>4</td>\n",
       "      <td>17</td>\n",
       "      <td>4</td>\n",
       "      <td>11.2</td>\n",
       "      <td>8.3</td>\n",
       "      <td>9.9</td>\n",
       "      <td>29</td>\n",
       "      <td>232</td>\n",
       "    </tr>\n",
       "    <tr>\n",
       "      <th>7382</th>\n",
       "      <td>41</td>\n",
       "      <td>1960</td>\n",
       "      <td>11</td>\n",
       "      <td>2.0</td>\n",
       "      <td>4</td>\n",
       "      <td>17</td>\n",
       "      <td>4</td>\n",
       "      <td>11.7</td>\n",
       "      <td>8.6</td>\n",
       "      <td>10.3</td>\n",
       "      <td>27</td>\n",
       "      <td>240</td>\n",
       "    </tr>\n",
       "    <tr>\n",
       "      <th>7383</th>\n",
       "      <td>41</td>\n",
       "      <td>1968</td>\n",
       "      <td>12</td>\n",
       "      <td>2.0</td>\n",
       "      <td>4</td>\n",
       "      <td>17</td>\n",
       "      <td>4</td>\n",
       "      <td>11.2</td>\n",
       "      <td>8.3</td>\n",
       "      <td>9.9</td>\n",
       "      <td>29</td>\n",
       "      <td>232</td>\n",
       "    </tr>\n",
       "    <tr>\n",
       "      <th>7384</th>\n",
       "      <td>41</td>\n",
       "      <td>1969</td>\n",
       "      <td>12</td>\n",
       "      <td>2.0</td>\n",
       "      <td>4</td>\n",
       "      <td>17</td>\n",
       "      <td>4</td>\n",
       "      <td>12.2</td>\n",
       "      <td>8.7</td>\n",
       "      <td>10.7</td>\n",
       "      <td>26</td>\n",
       "      <td>248</td>\n",
       "    </tr>\n",
       "  </tbody>\n",
       "</table>\n",
       "<p>7385 rows × 12 columns</p>\n",
       "</div>"
      ],
      "text/plain": [
       "      Make  Model  Vehicle_Class  Engine_Size_L_  Cylinders  Transmission  \\\n",
       "0        0   1057              0             2.0          4            14   \n",
       "1        0   1057              0             2.4          4            25   \n",
       "2        0   1058              0             1.5          4            22   \n",
       "3        0   1233             11             3.5          6            15   \n",
       "4        0   1499             11             3.5          6            15   \n",
       "...    ...    ...            ...             ...        ...           ...   \n",
       "7380    41   1951             11             2.0          4            17   \n",
       "7381    41   1957             11             2.0          4            17   \n",
       "7382    41   1960             11             2.0          4            17   \n",
       "7383    41   1968             12             2.0          4            17   \n",
       "7384    41   1969             12             2.0          4            17   \n",
       "\n",
       "      Fuel_Type  Fuel Consumption City (L/100 km)  \\\n",
       "0             4                               9.9   \n",
       "1             4                              11.2   \n",
       "2             4                               6.0   \n",
       "3             4                              12.7   \n",
       "4             4                              12.1   \n",
       "...         ...                               ...   \n",
       "7380          4                              10.7   \n",
       "7381          4                              11.2   \n",
       "7382          4                              11.7   \n",
       "7383          4                              11.2   \n",
       "7384          4                              12.2   \n",
       "\n",
       "      Fuel Consumption Hwy (L/100 km)  Fuel Consumption Comb (L/100 km)  \\\n",
       "0                                 6.7                               8.5   \n",
       "1                                 7.7                               9.6   \n",
       "2                                 5.8                               5.9   \n",
       "3                                 9.1                              11.1   \n",
       "4                                 8.7                              10.6   \n",
       "...                               ...                               ...   \n",
       "7380                              7.7                               9.4   \n",
       "7381                              8.3                               9.9   \n",
       "7382                              8.6                              10.3   \n",
       "7383                              8.3                               9.9   \n",
       "7384                              8.7                              10.7   \n",
       "\n",
       "      Fuel Consumption Comb (mpg)  CO2_Emissions_g_km_  \n",
       "0                              33                  196  \n",
       "1                              29                  221  \n",
       "2                              48                  136  \n",
       "3                              25                  255  \n",
       "4                              27                  244  \n",
       "...                           ...                  ...  \n",
       "7380                           30                  219  \n",
       "7381                           29                  232  \n",
       "7382                           27                  240  \n",
       "7383                           29                  232  \n",
       "7384                           26                  248  \n",
       "\n",
       "[7385 rows x 12 columns]"
      ]
     },
     "execution_count": 14,
     "metadata": {},
     "output_type": "execute_result"
    }
   ],
   "source": [
    "co2data"
   ]
  },
  {
   "cell_type": "code",
   "execution_count": 15,
   "metadata": {},
   "outputs": [
    {
     "data": {
      "text/plain": [
       "Make                                  int64\n",
       "Model                                 int64\n",
       "Vehicle_Class                         int64\n",
       "Engine_Size_L_                      float64\n",
       "Cylinders                             int64\n",
       "Transmission                          int64\n",
       "Fuel_Type                             int64\n",
       "Fuel Consumption City (L/100 km)    float64\n",
       "Fuel Consumption Hwy (L/100 km)     float64\n",
       "Fuel Consumption Comb (L/100 km)    float64\n",
       "Fuel Consumption Comb (mpg)           int64\n",
       "CO2_Emissions_g_km_                   int64\n",
       "dtype: object"
      ]
     },
     "execution_count": 15,
     "metadata": {},
     "output_type": "execute_result"
    }
   ],
   "source": [
    "co2data.dtypes"
   ]
  },
  {
   "cell_type": "code",
   "execution_count": null,
   "metadata": {},
   "outputs": [],
   "source": []
  },
  {
   "cell_type": "code",
   "execution_count": 16,
   "metadata": {},
   "outputs": [
    {
     "data": {
      "text/plain": [
       "array([1057, 1058, 1233, ..., 1822,  389, 1950], dtype=int64)"
      ]
     },
     "execution_count": 16,
     "metadata": {},
     "output_type": "execute_result"
    }
   ],
   "source": [
    "co2data.Model.unique()\n"
   ]
  },
  {
   "cell_type": "code",
   "execution_count": 17,
   "metadata": {},
   "outputs": [
    {
     "data": {
      "text/html": [
       "<div>\n",
       "<style scoped>\n",
       "    .dataframe tbody tr th:only-of-type {\n",
       "        vertical-align: middle;\n",
       "    }\n",
       "\n",
       "    .dataframe tbody tr th {\n",
       "        vertical-align: top;\n",
       "    }\n",
       "\n",
       "    .dataframe thead th {\n",
       "        text-align: right;\n",
       "    }\n",
       "</style>\n",
       "<table border=\"1\" class=\"dataframe\">\n",
       "  <thead>\n",
       "    <tr style=\"text-align: right;\">\n",
       "      <th></th>\n",
       "      <th>Make</th>\n",
       "      <th>Model</th>\n",
       "      <th>Vehicle_Class</th>\n",
       "      <th>Engine_Size_L_</th>\n",
       "      <th>Cylinders</th>\n",
       "      <th>Transmission</th>\n",
       "      <th>Fuel_Type</th>\n",
       "      <th>Fuel Consumption City (L/100 km)</th>\n",
       "      <th>Fuel Consumption Hwy (L/100 km)</th>\n",
       "      <th>Fuel Consumption Comb (L/100 km)</th>\n",
       "      <th>Fuel Consumption Comb (mpg)</th>\n",
       "      <th>CO2_Emissions_g_km_</th>\n",
       "    </tr>\n",
       "  </thead>\n",
       "  <tbody>\n",
       "    <tr>\n",
       "      <th>count</th>\n",
       "      <td>7385.000000</td>\n",
       "      <td>7385.000000</td>\n",
       "      <td>7385.000000</td>\n",
       "      <td>7385.000000</td>\n",
       "      <td>7385.000000</td>\n",
       "      <td>7385.000000</td>\n",
       "      <td>7385.000000</td>\n",
       "      <td>7385.000000</td>\n",
       "      <td>7385.000000</td>\n",
       "      <td>7385.000000</td>\n",
       "      <td>7385.000000</td>\n",
       "      <td>7385.000000</td>\n",
       "    </tr>\n",
       "    <tr>\n",
       "      <th>mean</th>\n",
       "      <td>19.570210</td>\n",
       "      <td>1023.658768</td>\n",
       "      <td>6.364523</td>\n",
       "      <td>3.160068</td>\n",
       "      <td>5.615030</td>\n",
       "      <td>14.027759</td>\n",
       "      <td>3.262153</td>\n",
       "      <td>12.556534</td>\n",
       "      <td>9.041706</td>\n",
       "      <td>10.975071</td>\n",
       "      <td>27.481652</td>\n",
       "      <td>250.584699</td>\n",
       "    </tr>\n",
       "    <tr>\n",
       "      <th>std</th>\n",
       "      <td>11.311625</td>\n",
       "      <td>577.022369</td>\n",
       "      <td>4.822959</td>\n",
       "      <td>1.354170</td>\n",
       "      <td>1.828307</td>\n",
       "      <td>7.260507</td>\n",
       "      <td>0.882482</td>\n",
       "      <td>3.500274</td>\n",
       "      <td>2.224456</td>\n",
       "      <td>2.892506</td>\n",
       "      <td>7.231879</td>\n",
       "      <td>58.512679</td>\n",
       "    </tr>\n",
       "    <tr>\n",
       "      <th>min</th>\n",
       "      <td>0.000000</td>\n",
       "      <td>0.000000</td>\n",
       "      <td>0.000000</td>\n",
       "      <td>0.900000</td>\n",
       "      <td>3.000000</td>\n",
       "      <td>0.000000</td>\n",
       "      <td>0.000000</td>\n",
       "      <td>4.200000</td>\n",
       "      <td>4.000000</td>\n",
       "      <td>4.100000</td>\n",
       "      <td>11.000000</td>\n",
       "      <td>96.000000</td>\n",
       "    </tr>\n",
       "    <tr>\n",
       "      <th>25%</th>\n",
       "      <td>9.000000</td>\n",
       "      <td>531.000000</td>\n",
       "      <td>2.000000</td>\n",
       "      <td>2.000000</td>\n",
       "      <td>4.000000</td>\n",
       "      <td>6.000000</td>\n",
       "      <td>3.000000</td>\n",
       "      <td>10.100000</td>\n",
       "      <td>7.500000</td>\n",
       "      <td>8.900000</td>\n",
       "      <td>22.000000</td>\n",
       "      <td>208.000000</td>\n",
       "    </tr>\n",
       "    <tr>\n",
       "      <th>50%</th>\n",
       "      <td>18.000000</td>\n",
       "      <td>999.000000</td>\n",
       "      <td>6.000000</td>\n",
       "      <td>3.000000</td>\n",
       "      <td>6.000000</td>\n",
       "      <td>15.000000</td>\n",
       "      <td>3.000000</td>\n",
       "      <td>12.100000</td>\n",
       "      <td>8.700000</td>\n",
       "      <td>10.600000</td>\n",
       "      <td>27.000000</td>\n",
       "      <td>246.000000</td>\n",
       "    </tr>\n",
       "    <tr>\n",
       "      <th>75%</th>\n",
       "      <td>29.000000</td>\n",
       "      <td>1524.000000</td>\n",
       "      <td>11.000000</td>\n",
       "      <td>3.700000</td>\n",
       "      <td>6.000000</td>\n",
       "      <td>17.000000</td>\n",
       "      <td>4.000000</td>\n",
       "      <td>14.600000</td>\n",
       "      <td>10.200000</td>\n",
       "      <td>12.600000</td>\n",
       "      <td>32.000000</td>\n",
       "      <td>288.000000</td>\n",
       "    </tr>\n",
       "    <tr>\n",
       "      <th>max</th>\n",
       "      <td>41.000000</td>\n",
       "      <td>2052.000000</td>\n",
       "      <td>15.000000</td>\n",
       "      <td>8.400000</td>\n",
       "      <td>16.000000</td>\n",
       "      <td>26.000000</td>\n",
       "      <td>4.000000</td>\n",
       "      <td>30.600000</td>\n",
       "      <td>20.600000</td>\n",
       "      <td>26.100000</td>\n",
       "      <td>69.000000</td>\n",
       "      <td>522.000000</td>\n",
       "    </tr>\n",
       "  </tbody>\n",
       "</table>\n",
       "</div>"
      ],
      "text/plain": [
       "              Make        Model  Vehicle_Class  Engine_Size_L_    Cylinders  \\\n",
       "count  7385.000000  7385.000000    7385.000000     7385.000000  7385.000000   \n",
       "mean     19.570210  1023.658768       6.364523        3.160068     5.615030   \n",
       "std      11.311625   577.022369       4.822959        1.354170     1.828307   \n",
       "min       0.000000     0.000000       0.000000        0.900000     3.000000   \n",
       "25%       9.000000   531.000000       2.000000        2.000000     4.000000   \n",
       "50%      18.000000   999.000000       6.000000        3.000000     6.000000   \n",
       "75%      29.000000  1524.000000      11.000000        3.700000     6.000000   \n",
       "max      41.000000  2052.000000      15.000000        8.400000    16.000000   \n",
       "\n",
       "       Transmission    Fuel_Type  Fuel Consumption City (L/100 km)  \\\n",
       "count   7385.000000  7385.000000                       7385.000000   \n",
       "mean      14.027759     3.262153                         12.556534   \n",
       "std        7.260507     0.882482                          3.500274   \n",
       "min        0.000000     0.000000                          4.200000   \n",
       "25%        6.000000     3.000000                         10.100000   \n",
       "50%       15.000000     3.000000                         12.100000   \n",
       "75%       17.000000     4.000000                         14.600000   \n",
       "max       26.000000     4.000000                         30.600000   \n",
       "\n",
       "       Fuel Consumption Hwy (L/100 km)  Fuel Consumption Comb (L/100 km)  \\\n",
       "count                      7385.000000                       7385.000000   \n",
       "mean                          9.041706                         10.975071   \n",
       "std                           2.224456                          2.892506   \n",
       "min                           4.000000                          4.100000   \n",
       "25%                           7.500000                          8.900000   \n",
       "50%                           8.700000                         10.600000   \n",
       "75%                          10.200000                         12.600000   \n",
       "max                          20.600000                         26.100000   \n",
       "\n",
       "       Fuel Consumption Comb (mpg)  CO2_Emissions_g_km_  \n",
       "count                  7385.000000          7385.000000  \n",
       "mean                     27.481652           250.584699  \n",
       "std                       7.231879            58.512679  \n",
       "min                      11.000000            96.000000  \n",
       "25%                      22.000000           208.000000  \n",
       "50%                      27.000000           246.000000  \n",
       "75%                      32.000000           288.000000  \n",
       "max                      69.000000           522.000000  "
      ]
     },
     "execution_count": 17,
     "metadata": {},
     "output_type": "execute_result"
    }
   ],
   "source": [
    "co2data.describe()"
   ]
  },
  {
   "cell_type": "code",
   "execution_count": 18,
   "metadata": {},
   "outputs": [
    {
     "data": {
      "text/html": [
       "<div>\n",
       "<style scoped>\n",
       "    .dataframe tbody tr th:only-of-type {\n",
       "        vertical-align: middle;\n",
       "    }\n",
       "\n",
       "    .dataframe tbody tr th {\n",
       "        vertical-align: top;\n",
       "    }\n",
       "\n",
       "    .dataframe thead th {\n",
       "        text-align: right;\n",
       "    }\n",
       "</style>\n",
       "<table border=\"1\" class=\"dataframe\">\n",
       "  <thead>\n",
       "    <tr style=\"text-align: right;\">\n",
       "      <th></th>\n",
       "      <th>Make</th>\n",
       "      <th>Model</th>\n",
       "      <th>Vehicle_Class</th>\n",
       "      <th>Engine_Size_L_</th>\n",
       "      <th>Cylinders</th>\n",
       "      <th>Transmission</th>\n",
       "      <th>Fuel_Type</th>\n",
       "      <th>Fuel Consumption City (L/100 km)</th>\n",
       "      <th>Fuel Consumption Hwy (L/100 km)</th>\n",
       "      <th>Fuel Consumption Comb (L/100 km)</th>\n",
       "      <th>Fuel Consumption Comb (mpg)</th>\n",
       "      <th>CO2_Emissions_g_km_</th>\n",
       "    </tr>\n",
       "  </thead>\n",
       "  <tbody>\n",
       "    <tr>\n",
       "      <th>Make</th>\n",
       "      <td>1.000000</td>\n",
       "      <td>0.012679</td>\n",
       "      <td>-0.029558</td>\n",
       "      <td>-0.146199</td>\n",
       "      <td>-0.162065</td>\n",
       "      <td>0.181923</td>\n",
       "      <td>0.045368</td>\n",
       "      <td>-0.197389</td>\n",
       "      <td>-0.126010</td>\n",
       "      <td>-0.175238</td>\n",
       "      <td>0.182649</td>\n",
       "      <td>-0.151955</td>\n",
       "    </tr>\n",
       "    <tr>\n",
       "      <th>Model</th>\n",
       "      <td>0.012679</td>\n",
       "      <td>1.000000</td>\n",
       "      <td>0.190713</td>\n",
       "      <td>0.070426</td>\n",
       "      <td>0.048399</td>\n",
       "      <td>-0.016260</td>\n",
       "      <td>-0.079554</td>\n",
       "      <td>0.101590</td>\n",
       "      <td>0.161755</td>\n",
       "      <td>0.123675</td>\n",
       "      <td>-0.098375</td>\n",
       "      <td>0.105847</td>\n",
       "    </tr>\n",
       "    <tr>\n",
       "      <th>Vehicle_Class</th>\n",
       "      <td>-0.029558</td>\n",
       "      <td>0.190713</td>\n",
       "      <td>1.000000</td>\n",
       "      <td>0.142704</td>\n",
       "      <td>0.105978</td>\n",
       "      <td>-0.156562</td>\n",
       "      <td>-0.033560</td>\n",
       "      <td>0.240941</td>\n",
       "      <td>0.329828</td>\n",
       "      <td>0.274388</td>\n",
       "      <td>-0.277606</td>\n",
       "      <td>0.286468</td>\n",
       "    </tr>\n",
       "    <tr>\n",
       "      <th>Engine_Size_L_</th>\n",
       "      <td>-0.146199</td>\n",
       "      <td>0.070426</td>\n",
       "      <td>0.142704</td>\n",
       "      <td>1.000000</td>\n",
       "      <td>0.927653</td>\n",
       "      <td>-0.322389</td>\n",
       "      <td>0.058296</td>\n",
       "      <td>0.831379</td>\n",
       "      <td>0.761526</td>\n",
       "      <td>0.817060</td>\n",
       "      <td>-0.757854</td>\n",
       "      <td>0.851145</td>\n",
       "    </tr>\n",
       "    <tr>\n",
       "      <th>Cylinders</th>\n",
       "      <td>-0.162065</td>\n",
       "      <td>0.048399</td>\n",
       "      <td>0.105978</td>\n",
       "      <td>0.927653</td>\n",
       "      <td>1.000000</td>\n",
       "      <td>-0.270011</td>\n",
       "      <td>0.125175</td>\n",
       "      <td>0.800702</td>\n",
       "      <td>0.715252</td>\n",
       "      <td>0.780534</td>\n",
       "      <td>-0.719321</td>\n",
       "      <td>0.832644</td>\n",
       "    </tr>\n",
       "    <tr>\n",
       "      <th>Transmission</th>\n",
       "      <td>0.181923</td>\n",
       "      <td>-0.016260</td>\n",
       "      <td>-0.156562</td>\n",
       "      <td>-0.322389</td>\n",
       "      <td>-0.270011</td>\n",
       "      <td>1.000000</td>\n",
       "      <td>0.212872</td>\n",
       "      <td>-0.345839</td>\n",
       "      <td>-0.355371</td>\n",
       "      <td>-0.353609</td>\n",
       "      <td>0.331213</td>\n",
       "      <td>-0.316660</td>\n",
       "    </tr>\n",
       "    <tr>\n",
       "      <th>Fuel_Type</th>\n",
       "      <td>0.045368</td>\n",
       "      <td>-0.079554</td>\n",
       "      <td>-0.033560</td>\n",
       "      <td>0.058296</td>\n",
       "      <td>0.125175</td>\n",
       "      <td>0.212872</td>\n",
       "      <td>1.000000</td>\n",
       "      <td>-0.075605</td>\n",
       "      <td>-0.129812</td>\n",
       "      <td>-0.095539</td>\n",
       "      <td>-0.016880</td>\n",
       "      <td>0.100306</td>\n",
       "    </tr>\n",
       "    <tr>\n",
       "      <th>Fuel Consumption City (L/100 km)</th>\n",
       "      <td>-0.197389</td>\n",
       "      <td>0.101590</td>\n",
       "      <td>0.240941</td>\n",
       "      <td>0.831379</td>\n",
       "      <td>0.800702</td>\n",
       "      <td>-0.345839</td>\n",
       "      <td>-0.075605</td>\n",
       "      <td>1.000000</td>\n",
       "      <td>0.948180</td>\n",
       "      <td>0.993810</td>\n",
       "      <td>-0.927059</td>\n",
       "      <td>0.919592</td>\n",
       "    </tr>\n",
       "    <tr>\n",
       "      <th>Fuel Consumption Hwy (L/100 km)</th>\n",
       "      <td>-0.126010</td>\n",
       "      <td>0.161755</td>\n",
       "      <td>0.329828</td>\n",
       "      <td>0.761526</td>\n",
       "      <td>0.715252</td>\n",
       "      <td>-0.355371</td>\n",
       "      <td>-0.129812</td>\n",
       "      <td>0.948180</td>\n",
       "      <td>1.000000</td>\n",
       "      <td>0.977299</td>\n",
       "      <td>-0.890638</td>\n",
       "      <td>0.883536</td>\n",
       "    </tr>\n",
       "    <tr>\n",
       "      <th>Fuel Consumption Comb (L/100 km)</th>\n",
       "      <td>-0.175238</td>\n",
       "      <td>0.123675</td>\n",
       "      <td>0.274388</td>\n",
       "      <td>0.817060</td>\n",
       "      <td>0.780534</td>\n",
       "      <td>-0.353609</td>\n",
       "      <td>-0.095539</td>\n",
       "      <td>0.993810</td>\n",
       "      <td>0.977299</td>\n",
       "      <td>1.000000</td>\n",
       "      <td>-0.925576</td>\n",
       "      <td>0.918052</td>\n",
       "    </tr>\n",
       "    <tr>\n",
       "      <th>Fuel Consumption Comb (mpg)</th>\n",
       "      <td>0.182649</td>\n",
       "      <td>-0.098375</td>\n",
       "      <td>-0.277606</td>\n",
       "      <td>-0.757854</td>\n",
       "      <td>-0.719321</td>\n",
       "      <td>0.331213</td>\n",
       "      <td>-0.016880</td>\n",
       "      <td>-0.927059</td>\n",
       "      <td>-0.890638</td>\n",
       "      <td>-0.925576</td>\n",
       "      <td>1.000000</td>\n",
       "      <td>-0.907426</td>\n",
       "    </tr>\n",
       "    <tr>\n",
       "      <th>CO2_Emissions_g_km_</th>\n",
       "      <td>-0.151955</td>\n",
       "      <td>0.105847</td>\n",
       "      <td>0.286468</td>\n",
       "      <td>0.851145</td>\n",
       "      <td>0.832644</td>\n",
       "      <td>-0.316660</td>\n",
       "      <td>0.100306</td>\n",
       "      <td>0.919592</td>\n",
       "      <td>0.883536</td>\n",
       "      <td>0.918052</td>\n",
       "      <td>-0.907426</td>\n",
       "      <td>1.000000</td>\n",
       "    </tr>\n",
       "  </tbody>\n",
       "</table>\n",
       "</div>"
      ],
      "text/plain": [
       "                                      Make     Model  Vehicle_Class  \\\n",
       "Make                              1.000000  0.012679      -0.029558   \n",
       "Model                             0.012679  1.000000       0.190713   \n",
       "Vehicle_Class                    -0.029558  0.190713       1.000000   \n",
       "Engine_Size_L_                   -0.146199  0.070426       0.142704   \n",
       "Cylinders                        -0.162065  0.048399       0.105978   \n",
       "Transmission                      0.181923 -0.016260      -0.156562   \n",
       "Fuel_Type                         0.045368 -0.079554      -0.033560   \n",
       "Fuel Consumption City (L/100 km) -0.197389  0.101590       0.240941   \n",
       "Fuel Consumption Hwy (L/100 km)  -0.126010  0.161755       0.329828   \n",
       "Fuel Consumption Comb (L/100 km) -0.175238  0.123675       0.274388   \n",
       "Fuel Consumption Comb (mpg)       0.182649 -0.098375      -0.277606   \n",
       "CO2_Emissions_g_km_              -0.151955  0.105847       0.286468   \n",
       "\n",
       "                                  Engine_Size_L_  Cylinders  Transmission  \\\n",
       "Make                                   -0.146199  -0.162065      0.181923   \n",
       "Model                                   0.070426   0.048399     -0.016260   \n",
       "Vehicle_Class                           0.142704   0.105978     -0.156562   \n",
       "Engine_Size_L_                          1.000000   0.927653     -0.322389   \n",
       "Cylinders                               0.927653   1.000000     -0.270011   \n",
       "Transmission                           -0.322389  -0.270011      1.000000   \n",
       "Fuel_Type                               0.058296   0.125175      0.212872   \n",
       "Fuel Consumption City (L/100 km)        0.831379   0.800702     -0.345839   \n",
       "Fuel Consumption Hwy (L/100 km)         0.761526   0.715252     -0.355371   \n",
       "Fuel Consumption Comb (L/100 km)        0.817060   0.780534     -0.353609   \n",
       "Fuel Consumption Comb (mpg)            -0.757854  -0.719321      0.331213   \n",
       "CO2_Emissions_g_km_                     0.851145   0.832644     -0.316660   \n",
       "\n",
       "                                  Fuel_Type  Fuel Consumption City (L/100 km)  \\\n",
       "Make                               0.045368                         -0.197389   \n",
       "Model                             -0.079554                          0.101590   \n",
       "Vehicle_Class                     -0.033560                          0.240941   \n",
       "Engine_Size_L_                     0.058296                          0.831379   \n",
       "Cylinders                          0.125175                          0.800702   \n",
       "Transmission                       0.212872                         -0.345839   \n",
       "Fuel_Type                          1.000000                         -0.075605   \n",
       "Fuel Consumption City (L/100 km)  -0.075605                          1.000000   \n",
       "Fuel Consumption Hwy (L/100 km)   -0.129812                          0.948180   \n",
       "Fuel Consumption Comb (L/100 km)  -0.095539                          0.993810   \n",
       "Fuel Consumption Comb (mpg)       -0.016880                         -0.927059   \n",
       "CO2_Emissions_g_km_                0.100306                          0.919592   \n",
       "\n",
       "                                  Fuel Consumption Hwy (L/100 km)  \\\n",
       "Make                                                    -0.126010   \n",
       "Model                                                    0.161755   \n",
       "Vehicle_Class                                            0.329828   \n",
       "Engine_Size_L_                                           0.761526   \n",
       "Cylinders                                                0.715252   \n",
       "Transmission                                            -0.355371   \n",
       "Fuel_Type                                               -0.129812   \n",
       "Fuel Consumption City (L/100 km)                         0.948180   \n",
       "Fuel Consumption Hwy (L/100 km)                          1.000000   \n",
       "Fuel Consumption Comb (L/100 km)                         0.977299   \n",
       "Fuel Consumption Comb (mpg)                             -0.890638   \n",
       "CO2_Emissions_g_km_                                      0.883536   \n",
       "\n",
       "                                  Fuel Consumption Comb (L/100 km)  \\\n",
       "Make                                                     -0.175238   \n",
       "Model                                                     0.123675   \n",
       "Vehicle_Class                                             0.274388   \n",
       "Engine_Size_L_                                            0.817060   \n",
       "Cylinders                                                 0.780534   \n",
       "Transmission                                             -0.353609   \n",
       "Fuel_Type                                                -0.095539   \n",
       "Fuel Consumption City (L/100 km)                          0.993810   \n",
       "Fuel Consumption Hwy (L/100 km)                           0.977299   \n",
       "Fuel Consumption Comb (L/100 km)                          1.000000   \n",
       "Fuel Consumption Comb (mpg)                              -0.925576   \n",
       "CO2_Emissions_g_km_                                       0.918052   \n",
       "\n",
       "                                  Fuel Consumption Comb (mpg)  \\\n",
       "Make                                                 0.182649   \n",
       "Model                                               -0.098375   \n",
       "Vehicle_Class                                       -0.277606   \n",
       "Engine_Size_L_                                      -0.757854   \n",
       "Cylinders                                           -0.719321   \n",
       "Transmission                                         0.331213   \n",
       "Fuel_Type                                           -0.016880   \n",
       "Fuel Consumption City (L/100 km)                    -0.927059   \n",
       "Fuel Consumption Hwy (L/100 km)                     -0.890638   \n",
       "Fuel Consumption Comb (L/100 km)                    -0.925576   \n",
       "Fuel Consumption Comb (mpg)                          1.000000   \n",
       "CO2_Emissions_g_km_                                 -0.907426   \n",
       "\n",
       "                                  CO2_Emissions_g_km_  \n",
       "Make                                        -0.151955  \n",
       "Model                                        0.105847  \n",
       "Vehicle_Class                                0.286468  \n",
       "Engine_Size_L_                               0.851145  \n",
       "Cylinders                                    0.832644  \n",
       "Transmission                                -0.316660  \n",
       "Fuel_Type                                    0.100306  \n",
       "Fuel Consumption City (L/100 km)             0.919592  \n",
       "Fuel Consumption Hwy (L/100 km)              0.883536  \n",
       "Fuel Consumption Comb (L/100 km)             0.918052  \n",
       "Fuel Consumption Comb (mpg)                 -0.907426  \n",
       "CO2_Emissions_g_km_                          1.000000  "
      ]
     },
     "execution_count": 18,
     "metadata": {},
     "output_type": "execute_result"
    }
   ],
   "source": [
    "co2data.corr()"
   ]
  },
  {
   "cell_type": "code",
   "execution_count": 19,
   "metadata": {},
   "outputs": [
    {
     "data": {
      "text/plain": [
       "<matplotlib.axes._subplots.AxesSubplot at 0x19255d4fe20>"
      ]
     },
     "execution_count": 19,
     "metadata": {},
     "output_type": "execute_result"
    },
    {
     "data": {
      "image/png": "[encoded data removed]",
      "text/plain": [
       "<Figure size 720x576 with 2 Axes>"
      ]
     },
     "metadata": {
      "needs_background": "light"
     },
     "output_type": "display_data"
    }
   ],
   "source": [
    "corr = co2data.corr()\n",
    "plt.figure(figsize=(10,8))\n",
    "sns.heatmap(corr,annot=True)"
   ]
  },
  {
   "cell_type": "code",
   "execution_count": 20,
   "metadata": {},
   "outputs": [
    {
     "data": {
      "text/plain": [
       "Index(['Make', 'Model', 'Vehicle_Class', 'Engine_Size_L_', 'Cylinders',\n",
       "       'Transmission', 'Fuel_Type', 'Fuel Consumption City (L/100 km)',\n",
       "       'Fuel Consumption Hwy (L/100 km)', 'Fuel Consumption Comb (L/100 km)',\n",
       "       'Fuel Consumption Comb (mpg)', 'CO2_Emissions_g_km_'],\n",
       "      dtype='object')"
      ]
     },
     "execution_count": 20,
     "metadata": {},
     "output_type": "execute_result"
    }
   ],
   "source": [
    "co2data.columns"
   ]
  },
  {
   "cell_type": "code",
   "execution_count": 21,
   "metadata": {},
   "outputs": [],
   "source": [
    "X=np.array(co2data.drop(['CO2_Emissions_g_km_'],1))\n",
    "y=np.array(co2data['CO2_Emissions_g_km_'])"
   ]
  },
  {
   "cell_type": "code",
   "execution_count": 22,
   "metadata": {},
   "outputs": [
    {
     "data": {
      "text/plain": [
       "array([[   0. , 1057. ,    0. , ...,    6.7,    8.5,   33. ],\n",
       "       [   0. , 1057. ,    0. , ...,    7.7,    9.6,   29. ],\n",
       "       [   0. , 1058. ,    0. , ...,    5.8,    5.9,   48. ],\n",
       "       ...,\n",
       "       [  41. , 1960. ,   11. , ...,    8.6,   10.3,   27. ],\n",
       "       [  41. , 1968. ,   12. , ...,    8.3,    9.9,   29. ],\n",
       "       [  41. , 1969. ,   12. , ...,    8.7,   10.7,   26. ]])"
      ]
     },
     "execution_count": 22,
     "metadata": {},
     "output_type": "execute_result"
    }
   ],
   "source": [
    "X"
   ]
  },
  {
   "cell_type": "code",
   "execution_count": 23,
   "metadata": {},
   "outputs": [
    {
     "data": {
      "text/plain": [
       "array([196, 221, 136, ..., 240, 232, 248], dtype=int64)"
      ]
     },
     "execution_count": 23,
     "metadata": {},
     "output_type": "execute_result"
    }
   ],
   "source": [
    "y"
   ]
  },
  {
   "cell_type": "code",
   "execution_count": 24,
   "metadata": {},
   "outputs": [],
   "source": [
    "#mean_x=np.mean(X)\n",
    "#mean_y=np.mean(y)"
   ]
  },
  {
   "cell_type": "code",
   "execution_count": 25,
   "metadata": {},
   "outputs": [],
   "source": [
    "#m= len(X)\n",
    "#numer=0\n",
    "#denom=0"
   ]
  },
  {
   "cell_type": "code",
   "execution_count": 26,
   "metadata": {},
   "outputs": [],
   "source": [
    "#for i in range(m):\n",
    "#    numer += (X[i]- mean_x)*(y[i]-mean_y)\n",
    "#    denom +=(X[i]- mean_x)**2\n",
    "#b1=numer /denom\n",
    "#b0= mean_y - (b1* mean_x)\n",
    "#print (b1,b0)"
   ]
  },
  {
   "cell_type": "code",
   "execution_count": 27,
   "metadata": {},
   "outputs": [],
   "source": [
    "#plt.plot(X,y,color='blue', label='regression line')"
   ]
  },
  {
   "cell_type": "code",
   "execution_count": 28,
   "metadata": {},
   "outputs": [],
   "source": [
    "#ss_t=0\n",
    "#ss_r=0\n",
    "#for i in range (m):\n",
    "#    y_pred=b0 + b1*X[i]\n",
    "#    ss_t += (y[i] - mean_y)**2\n",
    " #   ss_r +=(y[i] - y_pred)**2\n",
    "#r2= 1-(ss_r/ss_t)\n",
    "#print(r2)"
   ]
  },
  {
   "cell_type": "code",
   "execution_count": 29,
   "metadata": {
    "scrolled": false
   },
   "outputs": [],
   "source": [
    "#from sklearn.linear_model import LinearRegression\n",
    "#from sklearn.metrics import mean_squared_error\n",
    "\n",
    "#X = X.reshape((m,1))\n",
    "#reg = LinearRegression()\n",
    "#reg = reg.fit(X,y)\n",
    "#y_pred= reg.predict(X)\n",
    "#r2_score=reg.score(X,y)\n",
    "#print(r2_score)"
   ]
  },
  {
   "cell_type": "code",
   "execution_count": 30,
   "metadata": {},
   "outputs": [],
   "source": [
    "from sklearn.model_selection import train_test_split\n",
    "X_train,X_test,y_train,y_test= train_test_split(X,y, test_size=0.2,random_state=1)"
   ]
  },
  {
   "cell_type": "code",
   "execution_count": 31,
   "metadata": {},
   "outputs": [
    {
     "data": {
      "text/plain": [
       "LinearRegression()"
      ]
     },
     "execution_count": 31,
     "metadata": {},
     "output_type": "execute_result"
    }
   ],
   "source": [
    "from sklearn.linear_model import LinearRegression\n",
    "regressor= LinearRegression()\n",
    "regressor.fit(X_train,y_train)"
   ]
  },
  {
   "cell_type": "code",
   "execution_count": 32,
   "metadata": {},
   "outputs": [
    {
     "name": "stdout",
     "output_type": "stream",
     "text": [
      "[210.19135486 210.00809052 181.1442982  ... 183.26018434 102.72340465\n",
      " 196.23297967]\n"
     ]
    }
   ],
   "source": [
    "y_pred = regressor.predict(X_test)\n",
    "print(y_pred)"
   ]
  },
  {
   "cell_type": "code",
   "execution_count": 33,
   "metadata": {},
   "outputs": [
    {
     "name": "stdout",
     "output_type": "stream",
     "text": [
      "[ 7.59667380e-02  3.53534996e-04  7.05340830e-01  5.57276068e+00\n",
      "  5.78479307e+00 -6.74011577e-03  7.02794866e+00 -4.08093319e+00\n",
      " -1.16534058e+00  1.32773447e+01 -2.62429651e+00]\n"
     ]
    }
   ],
   "source": [
    "print(regressor.coef_)"
   ]
  },
  {
   "cell_type": "code",
   "execution_count": 34,
   "metadata": {},
   "outputs": [
    {
     "name": "stdout",
     "output_type": "stream",
     "text": [
      "159.35908609657724\n"
     ]
    }
   ],
   "source": [
    "print(regressor.intercept_)"
   ]
  },
  {
   "cell_type": "code",
   "execution_count": 35,
   "metadata": {},
   "outputs": [
    {
     "data": {
      "text/plain": [
       "0.9180220813241763"
      ]
     },
     "execution_count": 35,
     "metadata": {},
     "output_type": "execute_result"
    }
   ],
   "source": [
    "from sklearn.metrics import r2_score\n",
    "r2_score(y_test,y_pred)"
   ]
  },
  {
   "cell_type": "code",
   "execution_count": 36,
   "metadata": {},
   "outputs": [
    {
     "data": {
      "text/plain": [
       "<matplotlib.collections.PathCollection at 0x19256a8c550>"
      ]
     },
     "execution_count": 36,
     "metadata": {},
     "output_type": "execute_result"
    },
    {
     "data": {
      "image/png": "[encoded data removed]",
      "text/plain": [
       "<Figure size 432x288 with 1 Axes>"
      ]
     },
     "metadata": {
      "needs_background": "light"
     },
     "output_type": "display_data"
    }
   ],
   "source": [
    "plt.scatter(y_test, y_pred)"
   ]
  },
  {
   "cell_type": "code",
   "execution_count": null,
   "metadata": {},
   "outputs": [],
   "source": []
  }
 ],
 "metadata": {
  "kernelspec": {
   "display_name": "Python 3",
   "language": "python",
   "name": "python3"
  },
  "language_info": {
   "codemirror_mode": {
    "name": "ipython",
    "version": 3
   },
   "file_extension": ".py",
   "mimetype": "text/x-python",
   "name": "python",
   "nbconvert_exporter": "python",
   "pygments_lexer": "ipython3",
   "version": "3.8.5"
  }
 },
 "nbformat": 4,
 "nbformat_minor": 4
}
